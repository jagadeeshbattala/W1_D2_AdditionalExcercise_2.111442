{
 "cells": [
  {
   "cell_type": "markdown",
   "metadata": {},
   "source": [
    "# W1_D2_AdditionalExcercise_2.111442"
   ]
  },
  {
   "cell_type": "markdown",
   "metadata": {},
   "source": [
    "### Problem 1"
   ]
  },
  {
   "cell_type": "code",
   "execution_count": 2,
   "metadata": {},
   "outputs": [
    {
     "name": "stdout",
     "output_type": "stream",
     "text": [
      "acadgildacadgildacadgildacadgildacadgild\n"
     ]
    }
   ],
   "source": [
    "#Define a lambda function echo_name\n",
    "echo_name = lambda name1, echo_int : name1 * echo_int\n",
    "\n",
    "#Call echo_name with parameters \"acadgild\", 5\n",
    "result = echo_name(\"acadgild\", 5)\n",
    "\n",
    "#Print the result.\n",
    "print(result)"
   ]
  },
  {
   "cell_type": "markdown",
   "metadata": {},
   "source": [
    "### Problem 2"
   ]
  },
  {
   "cell_type": "code",
   "execution_count": 11,
   "metadata": {},
   "outputs": [
    {
     "name": "stdout",
     "output_type": "stream",
     "text": [
      "[120.56, 79.7, 117.14, 118.03999999999999]\n"
     ]
    }
   ],
   "source": [
    "#Values in Celsius\n",
    "Celsius = [49.2, 26.5, 47.3, 47.8]\n",
    "CelsiusToFahrenheit = lambda celsius : (1.8 * celsius) + 32\n",
    "Fahrenheit = map(CelsiusToFahrenheit, Celsius)\n",
    "\n",
    "#Print Fahrenheit\n",
    "print(list(Fahrenheit))"
   ]
  },
  {
   "cell_type": "markdown",
   "metadata": {},
   "source": [
    "### Problem 3"
   ]
  },
  {
   "cell_type": "code",
   "execution_count": 14,
   "metadata": {},
   "outputs": [
    {
     "name": "stdout",
     "output_type": "stream",
     "text": [
      "['e', 'o', 'e', 'o', 'A', 'a', 'i']\n"
     ]
    }
   ],
   "source": [
    "#Defining the function that filters the vowels\n",
    "def isVowel(char):\n",
    "    vowels = ['a', 'e', 'i', 'o', 'u', 'A', 'E', 'I', 'O', 'U']\n",
    "    return char in vowels\n",
    "char_list = ['W', 'e', 'l', 'c', 'o', 'm', 'e', 't', 'o', 'A', 'c', 'a', 'd', 'g', 'i', 'l', 'd']\n",
    "vow_list = list(filter(isVowel, char_list))\n",
    "print(vow_list)"
   ]
  },
  {
   "cell_type": "markdown",
   "metadata": {},
   "source": [
    "### Problem 4"
   ]
  },
  {
   "cell_type": "code",
   "execution_count": 17,
   "metadata": {},
   "outputs": [
    {
     "name": "stdout",
     "output_type": "stream",
     "text": [
      "WelcometoacadGild\n"
     ]
    }
   ],
   "source": [
    "string = \"123@Welc34ometo12@ac#adGild\"\n",
    "result = ''.join(list(filter(lambda x : x.isalpha() , string)))\n",
    "print(result)"
   ]
  },
  {
   "cell_type": "markdown",
   "metadata": {},
   "source": [
    "### Problem 5"
   ]
  },
  {
   "cell_type": "code",
   "execution_count": 16,
   "metadata": {},
   "outputs": [
    {
     "data": {
      "text/plain": [
       "'Feburary'"
      ]
     },
     "execution_count": 16,
     "metadata": {},
     "output_type": "execute_result"
    }
   ],
   "source": [
    "def longestWord(words_list):\n",
    "    if(len(words_list) == 0):\n",
    "        return None\n",
    "    long_word_len = len(words_list[0])\n",
    "    long_wod = words_list[0]\n",
    "    for index in range(1, len(words_list)):\n",
    "        if(long_word_len < len(words_list[index])):\n",
    "            long_word_len = len(words_list[index])\n",
    "            long_wod = words_list[index]\n",
    "    return long_wod\n",
    "\n",
    "words_list = ['January','Feburary','March','April','May', 'June', 'July']\n",
    "longestWord(words_list)"
   ]
  },
  {
   "cell_type": "code",
   "execution_count": null,
   "metadata": {},
   "outputs": [],
   "source": []
  }
 ],
 "metadata": {
  "kernelspec": {
   "display_name": "Python 3",
   "language": "python",
   "name": "python3"
  },
  "language_info": {
   "codemirror_mode": {
    "name": "ipython",
    "version": 3
   },
   "file_extension": ".py",
   "mimetype": "text/x-python",
   "name": "python",
   "nbconvert_exporter": "python",
   "pygments_lexer": "ipython3",
   "version": "3.7.0"
  }
 },
 "nbformat": 4,
 "nbformat_minor": 2
}
